{
 "cells": [
  {
   "cell_type": "code",
   "execution_count": 1,
   "metadata": {},
   "outputs": [],
   "source": [
    "import numpy as np\n",
    "import cv2\n",
    "\n",
    "# define a video capture object \n",
    "vid = cv2.VideoCapture(0) \n",
    "\n",
    "#high speed, low accuraccy \n",
    "#tracker = cv2.TrackerMOSSE_create()\n",
    "\n",
    "#bit slower, more accurate\n",
    "tracker = cv2.TrackerCSRT_create()\n",
    "\n",
    "ret, frame = vid.read() \n",
    "\n",
    "bbox = cv2.selectROI(\"Tracking\",frame, False)\n",
    "tracker.init(frame,bbox)\n",
    "\n",
    "def drawBox(frame,bbox):\n",
    "    x, y, w, h = int(bbox[0]),int(bbox[1]),int(bbox[2]),int(bbox[3]) \n",
    "    cv2.rectangle(frame, (x,y), ((x+w),(y+h)), (255,0,255), 3,1)\n",
    "    cv2.putText(frame,\"Tracking\",(75,75), cv2.FONT_HERSHEY_COMPLEX, 0.7,(0,255,0),2)\n",
    "\n",
    "while(True): \n",
    "    timer = cv2.getTickCount() \n",
    "    # Capture the video frame \n",
    "    ret, frame = vid.read() \n",
    "    \n",
    "    #searches for object in frame\n",
    "    ret, bbox = tracker.update(frame)\n",
    "    \n",
    "    #if object is found in frame\n",
    "    if ret:\n",
    "        drawBox(frame,bbox)\n",
    "    #if object is not found in frame        \n",
    "    else:\n",
    "        cv2.putText(frame,\"Lost\",(75,75), cv2.FONT_HERSHEY_COMPLEX, 0.7,(0,0,255),2)\n",
    "    \n",
    "    fps = cv2.getTickFrequency()/(cv2.getTickCount()-timer)\n",
    "    cv2.putText(frame,str(int(fps)),(75,50), cv2.FONT_HERSHEY_COMPLEX, 0.7,(0,0,255),2)\n",
    "    \n",
    "    # Display the resulting frame \n",
    "    cv2.imshow('frame', frame) \n",
    "    \n",
    "    # press q to quit\n",
    "    if cv2.waitKey(1) & 0xFF == ord('q'): \n",
    "        break\n",
    "  \n",
    "\n",
    "# After the loop release the cap object \n",
    "vid.release() \n",
    "# Destroy all the windows \n",
    "cv2.destroyAllWindows() \n"
   ]
  },
  {
   "cell_type": "code",
   "execution_count": null,
   "metadata": {},
   "outputs": [],
   "source": []
  },
  {
   "cell_type": "code",
   "execution_count": null,
   "metadata": {},
   "outputs": [],
   "source": []
  }
 ],
 "metadata": {
  "kernelspec": {
   "display_name": "Python 3",
   "language": "python",
   "name": "python3"
  },
  "language_info": {
   "codemirror_mode": {
    "name": "ipython",
    "version": 3
   },
   "file_extension": ".py",
   "mimetype": "text/x-python",
   "name": "python",
   "nbconvert_exporter": "python",
   "pygments_lexer": "ipython3",
   "version": "3.8.3"
  }
 },
 "nbformat": 4,
 "nbformat_minor": 4
}
