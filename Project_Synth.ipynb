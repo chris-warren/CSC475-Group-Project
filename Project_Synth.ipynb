{
 "cells": [
  {
   "cell_type": "code",
   "execution_count": 1,
   "metadata": {},
   "outputs": [],
   "source": [
    "import numpy as np\n",
    "import soundfile as sf\n",
    "import sounddevice as sd\n",
    "import ipywidgets as wg\n",
    "from IPython.display import display\n",
    "\n",
    "\n",
    "\n",
    "#using MIDI note 69 (A440) as a test input\n",
    "note_test = 69\n",
    "\n",
    "def MIDI_to_freq(note):\n",
    "    exp = (note - 69)/ 12\n",
    "    freq = 2 ** exp * 440\n",
    "    return freq\n",
    "\n",
    "def play_audio(data, sr):\n",
    "    sd.play(data, sr)\n",
    "    status = sd.wait()\n",
    "    \n",
    "def sinusoid(freq, dur=1.0, srate=44100.0, amp=1.0, phase = 0.0): \n",
    "    t = np.linspace(0,dur,int(srate*dur))\n",
    "    data = amp * np.sin(2*np.pi*freq *t+phase)\n",
    "    return data\n",
    "\n",
    "\n",
    "srate = 44100\n",
    "freq = MIDI_to_freq(69)\n",
    "data = sinusoid(freq, srate = 44100)\n"
   ]
  },
  {
   "cell_type": "code",
   "execution_count": 3,
   "metadata": {},
   "outputs": [
    {
     "name": "stdout",
     "output_type": "stream",
     "text": [
      "################################################################################\n",
      "press Return to quit\n",
      "################################################################################\n"
     ]
    },
    {
     "data": {
      "application/vnd.jupyter.widget-view+json": {
       "model_id": "b251bc2a9f924db8a943a06e38f2113c",
       "version_major": 2,
       "version_minor": 0
      },
      "text/plain": [
       "IntSlider(value=440, max=800)"
      ]
     },
     "metadata": {},
     "output_type": "display_data"
    },
    {
     "data": {
      "application/vnd.jupyter.widget-view+json": {
       "model_id": "0d09e6c575cc4dcaae22ad8322b993d7",
       "version_major": 2,
       "version_minor": 0
      },
      "text/plain": [
       "Output()"
      ]
     },
     "metadata": {},
     "output_type": "display_data"
    },
    {
     "name": "stderr",
     "output_type": "stream",
     "text": [
      "input underflow\n",
      "input underflow\n"
     ]
    },
    {
     "name": "stdout",
     "output_type": "stream",
     "text": [
      "330\n",
      "220\n",
      "100\n",
      "0\n",
      "\n"
     ]
    }
   ],
   "source": [
    "import sys\n",
    "import ipywidgets as wg\n",
    "from IPython.display import display\n",
    "\n",
    "#Sine wav ocsillator that changes frequency in \"real-time\" based on user text input\n",
    "#Just type the frequency in Hz you would like to hear then press enter. Enter 0 to quit\n",
    "\n",
    "amp = 1 \n",
    "f = 440 #frequency\n",
    "start_idx = 0\n",
    "block = 500 #the smaller the value, less latency (but if too low input underflow)\n",
    "lat = 0 #latency in seconds\n",
    "srate = 2048\n",
    "\n",
    "\n",
    "\n",
    "\n",
    "try:\n",
    "    \n",
    "    def callback(indata, outdata, frames, time, status):\n",
    "        if status:\n",
    "            print(status, file=sys.stderr)\n",
    "        global start_idx\n",
    "        t = (start_idx + np.arange(frames)) / srate\n",
    "        t = t.reshape(-1, 1)\n",
    "        \n",
    "        global f\n",
    "        indata = amp * np.sin(2 * np.pi * f * t) #create sine wave\n",
    "        outdata[:] = indata  \n",
    "        start_idx += frames\n",
    "        \n",
    "    output1 = wg.Output()\n",
    "    \n",
    "            \n",
    "\n",
    "    with sd.Stream(\n",
    "                   samplerate=srate, blocksize=block,latency=lat,\n",
    "                   channels=1, callback=callback ):\n",
    "        \n",
    "        print('#' * 80)\n",
    "        print('press Return to quit')\n",
    "        print('#' * 80)\n",
    "        \n",
    "        def on_value_change(change): #for slider\n",
    "            with output1:\n",
    "                print(change.new)\n",
    "                f = change.new\n",
    "                \n",
    "        f_slider = wg.IntSlider(value = 440, min=0, max = 800)\n",
    "        display(f_slider, output1)\n",
    "        \n",
    "\n",
    "        while f != 0: #get frequency input from user set 0 to quit\n",
    "            f = int(input())\n",
    "            \n",
    "            #f_slider.observe(on_value_change, names = 'value')\n",
    "            \n",
    "        input() #return to exit\n",
    "    \n",
    "except KeyboardInterrupt:\n",
    "    print(\"Exited by user\") \n"
   ]
  },
  {
   "cell_type": "code",
   "execution_count": 14,
   "metadata": {},
   "outputs": [
    {
     "name": "stdout",
     "output_type": "stream",
     "text": [
      "################################################################################\n",
      "press Return to quit\n",
      "################################################################################\n",
      "Exited by user\n"
     ]
    }
   ],
   "source": [
    "#Taking input from the microphone\n",
    "\n",
    "import numpy as np\n",
    "import soundfile as sf\n",
    "import sounddevice as sd\n",
    "\n",
    "\n",
    "#using MIDI note 69 (A440) as a test input\n",
    "note_test = 69\n",
    "\n",
    "def MIDI_to_freq(note):\n",
    "    exp = (note - 69)/ 12\n",
    "    freq = 2 ** exp * 440\n",
    "    return freq\n",
    "\n",
    "def play_audio(data, sr):\n",
    "    sd.play(data, sr)\n",
    "    status = sd.wait()\n",
    "    \n",
    "def sinusoid(freq, dur=1.0, srate=44100.0, amp=1.0, phase = 0.0): \n",
    "    t = np.linspace(0,dur,int(srate*dur))\n",
    "    data = amp * np.sin(2*np.pi*freq *t+phase)\n",
    "    return data\n",
    "\n",
    "\n",
    "srate = 2048\n",
    "\n",
    "\n",
    "block = 2048\n",
    "lat = 1\n",
    "#play_audio(data, srate)\n",
    "\n",
    "\n",
    "def callback(indata, outdata, frames, time, status):\n",
    "    if status:\n",
    "        print(status)\n",
    "    outdata[:] = indata\n",
    "\n",
    "\n",
    "#Default device microphone?    \n",
    "try:\n",
    "    with sd.Stream(\n",
    "                   samplerate=srate, blocksize=block,latency=lat,\n",
    "                   channels=1, callback=callback ):\n",
    "        print('#' * 80)\n",
    "        print('press Return to quit')\n",
    "        print('#' * 80)\n",
    "        input()\n",
    "    \n",
    "except KeyboardInterrupt:\n",
    "    print(\"Exited by user\")       \n",
    "        \n",
    "    "
   ]
  },
  {
   "cell_type": "code",
   "execution_count": 4,
   "metadata": {},
   "outputs": [
    {
     "data": {
      "application/vnd.jupyter.widget-view+json": {
       "model_id": "039efbe08f21400ea5f9b007e9aa0e41",
       "version_major": 2,
       "version_minor": 0
      },
      "text/plain": [
       "Text(value='Name')"
      ]
     },
     "metadata": {},
     "output_type": "display_data"
    },
    {
     "data": {
      "application/vnd.jupyter.widget-view+json": {
       "model_id": "1fb6fa116da04d878bac0b8f7cce5633",
       "version_major": 2,
       "version_minor": 0
      },
      "text/plain": [
       "IntSlider(value=0, description='Age:')"
      ]
     },
     "metadata": {},
     "output_type": "display_data"
    }
   ],
   "source": [
    "#I was justy playing around with random widgets in the cells below.\n",
    "\n",
    "import ipywidgets as wg\n",
    "from IPython.display import display\n",
    "\n",
    "name = wg.Text(value='Name')\n",
    "age = wg.IntSlider(description='Age:')\n",
    "display(name,age)"
   ]
  },
  {
   "cell_type": "code",
   "execution_count": 5,
   "metadata": {},
   "outputs": [
    {
     "name": "stdout",
     "output_type": "stream",
     "text": [
      "Ken is 23 years old\n"
     ]
    }
   ],
   "source": [
    "print(name.value + ' is ' + str(age.value) + ' years old')"
   ]
  },
  {
   "cell_type": "code",
   "execution_count": 6,
   "metadata": {},
   "outputs": [],
   "source": [
    "def myPlot(c):\n",
    "    x = np.linspace(-5,5,20)\n",
    "    y = c * x**2\n",
    "    plt.plot(x,y,'r--')\n",
    "    plt.xlabel('x')\n",
    "    plt.ylabel('y(x)')\n",
    "    plt.ylim([0,80])\n",
    "    plt.xlim([-5,5])\n",
    "            \n"
   ]
  },
  {
   "cell_type": "code",
   "execution_count": 7,
   "metadata": {},
   "outputs": [
    {
     "data": {
      "application/vnd.jupyter.widget-view+json": {
       "model_id": "56f1e3f438c04bf881c19a4ca2fc4323",
       "version_major": 2,
       "version_minor": 0
      },
      "text/plain": [
       "interactive(children=(FloatSlider(value=1.0, description='c', max=3.0), Output()), _dom_classes=('widget-inter…"
      ]
     },
     "metadata": {},
     "output_type": "display_data"
    },
    {
     "data": {
      "text/plain": [
       "<function __main__.myPlot(c)>"
      ]
     },
     "execution_count": 7,
     "metadata": {},
     "output_type": "execute_result"
    }
   ],
   "source": [
    "c_slide = wg.FloatSlider(value=1.0, min=0, max=3.0, step=0.1)\n",
    "wg.interact(myPlot,c=c_slide)"
   ]
  },
  {
   "cell_type": "code",
   "execution_count": 91,
   "metadata": {},
   "outputs": [
    {
     "data": {
      "text/plain": [
       "['_dom_classes',\n",
       " '_model_module',\n",
       " '_model_module_version',\n",
       " '_model_name',\n",
       " '_view_count',\n",
       " '_view_module',\n",
       " '_view_module_version',\n",
       " '_view_name',\n",
       " 'continuous_update',\n",
       " 'description',\n",
       " 'description_tooltip',\n",
       " 'disabled',\n",
       " 'layout',\n",
       " 'max',\n",
       " 'min',\n",
       " 'orientation',\n",
       " 'readout',\n",
       " 'readout_format',\n",
       " 'step',\n",
       " 'style',\n",
       " 'value']"
      ]
     },
     "execution_count": 91,
     "metadata": {},
     "output_type": "execute_result"
    }
   ],
   "source": [
    "c_slide.keys"
   ]
  },
  {
   "cell_type": "code",
   "execution_count": 93,
   "metadata": {},
   "outputs": [
    {
     "data": {
      "text/plain": [
       "<ipywidgets.widgets.widget.WidgetRegistry at 0x7fb9ab495790>"
      ]
     },
     "execution_count": 93,
     "metadata": {},
     "output_type": "execute_result"
    }
   ],
   "source": [
    "wg.Widget.widget_types"
   ]
  },
  {
   "cell_type": "code",
   "execution_count": 8,
   "metadata": {},
   "outputs": [
    {
     "data": {
      "application/vnd.jupyter.widget-view+json": {
       "model_id": "08820beb9e394644aec17c32a3865a9a",
       "version_major": 2,
       "version_minor": 0
      },
      "text/plain": [
       "IntProgress(value=0, description='Loading:')"
      ]
     },
     "metadata": {},
     "output_type": "display_data"
    }
   ],
   "source": [
    "import time\n",
    "progress = wg.IntProgress(description='Loading:')\n",
    "progress.orientation='horizontal'\n",
    "display(progress)\n",
    "\n",
    "for i in range(100):\n",
    "    progress.value = i\n",
    "    time.sleep(0.1)"
   ]
  },
  {
   "cell_type": "code",
   "execution_count": 9,
   "metadata": {},
   "outputs": [
    {
     "data": {
      "application/vnd.jupyter.widget-view+json": {
       "model_id": "a491a20b1b344b6d9c41294febecb2f7",
       "version_major": 2,
       "version_minor": 0
      },
      "text/plain": [
       "IntSlider(value=0)"
      ]
     },
     "metadata": {},
     "output_type": "display_data"
    },
    {
     "data": {
      "application/vnd.jupyter.widget-view+json": {
       "model_id": "218e5bb8dc294a01b0578cbcab07bfda",
       "version_major": 2,
       "version_minor": 0
      },
      "text/plain": [
       "Output()"
      ]
     },
     "metadata": {},
     "output_type": "display_data"
    }
   ],
   "source": [
    "int_range = wg.IntSlider()\n",
    "output2 = wg.Output()\n",
    "\n",
    "display(int_range, output2)\n",
    "\n",
    "def on_value_change(change):\n",
    "    with output2:\n",
    "        print(change['new'])\n",
    "\n",
    "int_range.observe(on_value_change, names='value')"
   ]
  },
  {
   "cell_type": "code",
   "execution_count": 10,
   "metadata": {},
   "outputs": [
    {
     "data": {
      "application/vnd.jupyter.widget-view+json": {
       "model_id": "1c684639051e4a50b7d2ddb91300cca5",
       "version_major": 2,
       "version_minor": 0
      },
      "text/plain": [
       "Label(value='The values of range1 and range2 are synchronized')"
      ]
     },
     "metadata": {},
     "output_type": "display_data"
    },
    {
     "data": {
      "application/vnd.jupyter.widget-view+json": {
       "model_id": "d452087e40ce4beb882a475729816153",
       "version_major": 2,
       "version_minor": 0
      },
      "text/plain": [
       "IntSlider(value=1, description='Slider', max=5, min=-5)"
      ]
     },
     "metadata": {},
     "output_type": "display_data"
    }
   ],
   "source": [
    "\n",
    "caption = wg.Label(value='The values of range1 and range2 are synchronized')\n",
    "slider = wg.IntSlider(min=-5, max=5, value=1, description='Slider')\n",
    "\n",
    "def handle_slider_change(change):\n",
    "    caption.value = 'The slider value is ' + (\n",
    "        'negative' if change.new < 0 else 'nonnegative'\n",
    "    )\n",
    "\n",
    "slider.observe(handle_slider_change, names='value')\n",
    "\n",
    "display(caption, slider)"
   ]
  },
  {
   "cell_type": "code",
   "execution_count": null,
   "metadata": {},
   "outputs": [],
   "source": []
  }
 ],
 "metadata": {
  "kernelspec": {
   "display_name": "Python 3",
   "language": "python",
   "name": "python3"
  },
  "language_info": {
   "codemirror_mode": {
    "name": "ipython",
    "version": 3
   },
   "file_extension": ".py",
   "mimetype": "text/x-python",
   "name": "python",
   "nbconvert_exporter": "python",
   "pygments_lexer": "ipython3",
   "version": "3.7.9"
  }
 },
 "nbformat": 4,
 "nbformat_minor": 4
}
